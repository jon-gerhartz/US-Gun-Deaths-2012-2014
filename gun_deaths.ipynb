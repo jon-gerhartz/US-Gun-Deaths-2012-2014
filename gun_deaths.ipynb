{
 "cells": [
  {
   "cell_type": "markdown",
   "metadata": {},
   "source": [
    "# Import Gun Deaths CSV File and Read it into a List of Lists"
   ]
  },
  {
   "cell_type": "code",
   "execution_count": 1,
   "metadata": {
    "collapsed": false
   },
   "outputs": [
    {
     "name": "stdout",
     "output_type": "stream",
     "text": [
      "[['', 'year', 'month', 'intent', 'police', 'sex', 'age', 'race', 'hispanic', 'place', 'education'], ['1', '2012', '01', 'Suicide', '0', 'M', '34', 'Asian/Pacific Islander', '100', 'Home', 'BA+'], ['2', '2012', '01', 'Suicide', '0', 'F', '21', 'White', '100', 'Street', 'Some college'], ['3', '2012', '01', 'Suicide', '0', 'M', '60', 'White', '100', 'Other specified', 'BA+'], ['4', '2012', '02', 'Suicide', '0', 'M', '64', 'White', '100', 'Home', 'BA+']]\n"
     ]
    }
   ],
   "source": [
    "import csv\n",
    "f=open('gun_deaths.csv','r')\n",
    "read=csv.reader(f)\n",
    "data=list(read)\n",
    "print(data[0:5])"
   ]
  },
  {
   "cell_type": "markdown",
   "metadata": {},
   "source": [
    "# Removing and Storing Header"
   ]
  },
  {
   "cell_type": "code",
   "execution_count": 2,
   "metadata": {
    "collapsed": false
   },
   "outputs": [
    {
     "name": "stdout",
     "output_type": "stream",
     "text": [
      "[['1', '2012', '01', 'Suicide', '0', 'M', '34', 'Asian/Pacific Islander', '100', 'Home', 'BA+'], ['2', '2012', '01', 'Suicide', '0', 'F', '21', 'White', '100', 'Street', 'Some college'], ['3', '2012', '01', 'Suicide', '0', 'M', '60', 'White', '100', 'Other specified', 'BA+'], ['4', '2012', '02', 'Suicide', '0', 'M', '64', 'White', '100', 'Home', 'BA+'], ['5', '2012', '02', 'Suicide', '0', 'M', '31', 'White', '100', 'Other specified', 'HS/GED']]\n"
     ]
    }
   ],
   "source": [
    "headers=data[0]\n",
    "data=data[1:len(data)] #list of lists file with header removed\n",
    "print(data[0:5])"
   ]
  },
  {
   "cell_type": "markdown",
   "metadata": {},
   "source": [
    "# Counting the Total Gun Deaths Per Year in the Dataset"
   ]
  },
  {
   "cell_type": "code",
   "execution_count": 3,
   "metadata": {
    "collapsed": false
   },
   "outputs": [
    {
     "name": "stdout",
     "output_type": "stream",
     "text": [
      "{'2012': 33563, '2013': 33636, '2014': 33599}\n"
     ]
    }
   ],
   "source": [
    "years = [row[1] for row in data]\n",
    "year_counts={}\n",
    "for year in years:\n",
    "    if year in year_counts:\n",
    "        year_counts[year]+=1\n",
    "    else:\n",
    "        year_counts[year]=1\n",
    "print(year_counts)"
   ]
  },
  {
   "cell_type": "markdown",
   "metadata": {},
   "source": [
    "# Analyzing Gun Deaths by Month and Year"
   ]
  },
  {
   "cell_type": "code",
   "execution_count": 4,
   "metadata": {
    "collapsed": false,
    "scrolled": false
   },
   "outputs": [
    {
     "name": "stdout",
     "output_type": "stream",
     "text": [
      "[datetime.datetime(2012, 1, 1, 0, 0), datetime.datetime(2012, 1, 1, 0, 0), datetime.datetime(2012, 1, 1, 0, 0), datetime.datetime(2012, 2, 1, 0, 0), datetime.datetime(2012, 2, 1, 0, 0)]\n",
      "\n",
      "\n",
      "{datetime.datetime(2012, 1, 1, 0, 0): 2758, datetime.datetime(2012, 2, 1, 0, 0): 2357, datetime.datetime(2012, 3, 1, 0, 0): 2743, datetime.datetime(2012, 4, 1, 0, 0): 2795, datetime.datetime(2012, 5, 1, 0, 0): 2999, datetime.datetime(2012, 6, 1, 0, 0): 2826, datetime.datetime(2012, 7, 1, 0, 0): 3026, datetime.datetime(2012, 8, 1, 0, 0): 2954, datetime.datetime(2012, 9, 1, 0, 0): 2852, datetime.datetime(2012, 10, 1, 0, 0): 2733, datetime.datetime(2012, 11, 1, 0, 0): 2729, datetime.datetime(2012, 12, 1, 0, 0): 2791, datetime.datetime(2013, 1, 1, 0, 0): 2864, datetime.datetime(2013, 2, 1, 0, 0): 2375, datetime.datetime(2013, 3, 1, 0, 0): 2862, datetime.datetime(2013, 4, 1, 0, 0): 2798, datetime.datetime(2013, 5, 1, 0, 0): 2806, datetime.datetime(2013, 6, 1, 0, 0): 2920, datetime.datetime(2013, 7, 1, 0, 0): 3079, datetime.datetime(2013, 8, 1, 0, 0): 2859, datetime.datetime(2013, 9, 1, 0, 0): 2742, datetime.datetime(2013, 10, 1, 0, 0): 2808, datetime.datetime(2013, 11, 1, 0, 0): 2758, datetime.datetime(2013, 12, 1, 0, 0): 2765, datetime.datetime(2014, 1, 1, 0, 0): 2651, datetime.datetime(2014, 2, 1, 0, 0): 2361, datetime.datetime(2014, 3, 1, 0, 0): 2684, datetime.datetime(2014, 4, 1, 0, 0): 2862, datetime.datetime(2014, 5, 1, 0, 0): 2864, datetime.datetime(2014, 6, 1, 0, 0): 2931, datetime.datetime(2014, 7, 1, 0, 0): 2884, datetime.datetime(2014, 8, 1, 0, 0): 2970, datetime.datetime(2014, 9, 1, 0, 0): 2914, datetime.datetime(2014, 10, 1, 0, 0): 2865, datetime.datetime(2014, 11, 1, 0, 0): 2756, datetime.datetime(2014, 12, 1, 0, 0): 2857}\n"
     ]
    }
   ],
   "source": [
    "import datetime\n",
    "dates = [datetime.datetime(year=int(row[1]), month=int(row[2]), day=1) for row in data]# creating datetime instances for each row in the dataset\n",
    "date_counts={}\n",
    "for date in dates:\n",
    "    if date in date_counts:\n",
    "        date_counts[date]+=1\n",
    "    else:\n",
    "        date_counts[date]=1\n",
    "print(\"\\n\")\n",
    "print(date_counts)\n",
    "\n"
   ]
  },
  {
   "cell_type": "markdown",
   "metadata": {},
   "source": [
    "# Analyzing Gun Deaths by Race and Sex Using US Census Data"
   ]
  },
  {
   "cell_type": "code",
   "execution_count": 5,
   "metadata": {
    "collapsed": false
   },
   "outputs": [
    {
     "name": "stdout",
     "output_type": "stream",
     "text": [
      "{'M': 86349, 'F': 14449} \n",
      " {'Asian/Pacific Islander': 1326, 'White': 66237, 'Native American/Native Alaskan': 917, 'Black': 23296, 'Hispanic': 9022}\n"
     ]
    }
   ],
   "source": [
    "sex = [row[5] for row in data]\n",
    "race = [row[7] for row in data]\n",
    "def column_count(list):\n",
    "    counts={}\n",
    "    for value in list:\n",
    "        if value in counts:\n",
    "            counts[value]+=1\n",
    "        else:\n",
    "            counts[value]=1\n",
    "    return counts\n",
    "\n",
    "sex_counts=column_count(sex)\n",
    "race_counts=column_count(race)\n",
    "print(sex_counts,'\\n',race_counts)"
   ]
  },
  {
   "cell_type": "markdown",
   "metadata": {},
   "source": [
    "# Gun Deaths by Gender\n",
    "Based on this analysis, more men were killed with a gun then were women from 2012 to 2014. Considering the ratio of Males to Females in the US is approximately 1 to 1, this suggests that men are killed at a much higher rate by guns then are females. \n",
    "\n",
    "# Gun Deaths By Race\n",
    "Based on the analysis, the white race has significantly more gun deaths than any other race in the US. They are followed by black, hispanic, native american and asian/pacific islanders respectively. Although interesting, we need data on the population of each race in the US to compare the rate of which each race is killed by gun deaths. "
   ]
  },
  {
   "cell_type": "code",
   "execution_count": 6,
   "metadata": {
    "collapsed": false
   },
   "outputs": [
    {
     "name": "stdout",
     "output_type": "stream",
     "text": [
      "[['<!DOCTYPE HTML>'], ['<html>'], [], ['<head>'], ['    <meta charset=\"utf-8\">'], [], ['    <title>census.csv (editing)</title>'], ['    <link rel=\"shortcut icon\" type=\"image/x-icon\" href=\"/jupyter/static/base/images/favicon.ico?v=97c6417ed01bdc0ae3ef32ae4894fd03\">'], ['    <meta http-equiv=\"X-UA-Compatible\" content=\"IE=edge\" />'], ['    <link rel=\"stylesheet\" href=\"/jupyter/static/components/jquery-ui/themes/smoothness/jquery-ui.min.css?v=9b2c8d3489227115310662a343fce11c\" type=\"text/css\" />'], ['    <link rel=\"stylesheet\" href=\"/jupyter/static/components/jquery-typeahead/dist/jquery.typeahead.min.css?v=7afb461de36accb1aa133a1710f5bc56\" type=\"text/css\" />'], ['    <meta name=\"viewport\" content=\"width=device-width', ' initial-scale=1.0\">'], ['    '], ['    '], ['<link rel=\"stylesheet\" href=\"/jupyter/static/components/codemirror/lib/codemirror.css?v=95410923b46f2a7fa209e00c20100349\">'], ['<link rel=\"stylesheet\" href=\"/jupyter/static/components/codemirror/addon/dialog/dialog.css?v=c89dce10b44d2882a024e7befc2b63f5\">'], [], ['    <link rel=\"stylesheet\" href=\"/jupyter/static/style/style.min.css?v=974839a888beb55bbba87883fafd90fa\" type=\"text/css\"/>'], ['    '], [], ['    <link rel=\"stylesheet\" href=\"/jupyter/custom/custom.css\" type=\"text/css\" />'], ['    <script src=\"/jupyter/static/components/es6-promise/promise.min.js?v=f004a16cb856e0ff11781d01ec5ca8fe\" type=\"text/javascript\" charset=\"utf-8\"></script>'], ['    <script src=\"/jupyter/static/components/requirejs/require.js?v=6da8be361b9ee26c5e721e76c6d4afce\" type=\"text/javascript\" charset=\"utf-8\"></script>'], ['    <script>'], ['      require.config({'], ['          '], ['          urlArgs: \"v=20190114173059\"', ''], ['          '], [\"          baseUrl: '/jupyter/static/'\", ''], ['          paths: {'], [\"            'auth/js/main': 'auth/js/main.min'\", ''], [\"            custom : '/jupyter/custom'\", ''], [\"            nbextensions : '/jupyter/nbextensions'\", ''], [\"            kernelspecs : '/jupyter/kernelspecs'\", ''], [\"            underscore : 'components/underscore/underscore-min'\", ''], [\"            backbone : 'components/backbone/backbone-min'\", ''], [\"            jquery: 'components/jquery/jquery.min'\", ''], [\"            bootstrap: 'components/bootstrap/js/bootstrap.min'\", ''], [\"            bootstraptour: 'components/bootstrap-tour/build/js/bootstrap-tour.min'\", ''], [\"            'jquery-ui': 'components/jquery-ui/ui/minified/jquery-ui.min'\", ''], [\"            moment: 'components/moment/moment'\", ''], [\"            codemirror: 'components/codemirror'\", ''], [\"            termjs: 'components/xterm.js/dist/xterm'\", ''], [\"            typeahead: 'components/jquery-typeahead/dist/jquery.typeahead.min'\", ''], ['          }', ''], ['\\t  map: { // for backward compatibility'], ['\\t    \"*\": {'], ['\\t\\t\"jqueryui\": \"jquery-ui\"', ''], ['\\t    }'], ['\\t  }', ''], ['          shim: {'], ['            typeahead: {'], ['              deps: [\"jquery\"]', ''], ['              exports: \"typeahead\"'], ['            }', ''], ['            underscore: {'], [\"              exports: '_'\"], ['            }', ''], ['            backbone: {'], ['              deps: [\"underscore\"', ' \"jquery\"]', ''], ['              exports: \"Backbone\"'], ['            }', ''], ['            bootstrap: {'], ['              deps: [\"jquery\"]', ''], ['              exports: \"bootstrap\"'], ['            }', ''], ['            bootstraptour: {'], ['              deps: [\"bootstrap\"]', ''], ['              exports: \"Tour\"'], ['            }', ''], ['            \"jquery-ui\": {'], ['              deps: [\"jquery\"]', ''], ['              exports: \"$\"'], ['            }'], ['          }', ''], ['          waitSeconds: 30', ''], ['      });'], [], ['      require.config({'], ['          map: {'], [\"              '*':{\"], [\"                'contents': 'services/contents'\", ''], ['              }'], ['          }'], ['      });'], [], ['      define(\"bootstrap\"', ' function () {'], ['          return window.$;'], ['      });'], [], ['      define(\"jquery\"', ' function () {'], ['          return window.$;'], ['      });'], [], ['      define(\"jqueryui\"', ' function () {'], ['          return window.$;'], ['      });'], [], ['      define(\"jquery-ui\"', ' function () {'], ['          return window.$;'], ['      });'], ['      // error-catching custom.js shim.'], ['      define(\"custom\"', ' function (require', ' exports', ' module) {'], ['          try {'], [\"              var custom = require('custom/custom');\"], [\"              console.debug('loaded custom.js');\"], ['              return custom;'], ['          } catch (e) {'], ['              console.error(\"error loading custom.js\"', ' e);'], ['              return {};'], ['          }'], ['      })'], ['    </script>'], [], ['    '], ['    '], [], ['</head>'], [], ['<body class=\"edit_app \"'], [' '], ['data-base-url=\"/jupyter/\"'], ['data-file-path=\"notebook/census.csv\"'], [], ['  '], [' '], [], ['>'], [], ['<noscript>'], [\"    <div id='noscript'>\"], ['      Jupyter Notebook requires JavaScript.<br>'], ['      Please enable it to proceed.'], ['  </div>'], ['</noscript>'], [], ['<div id=\"header\">'], ['  <div id=\"header-container\" class=\"container\">'], ['  <div id=\"ipython_notebook\" class=\"nav navbar-brand pull-left\"><a href=\"/jupyter/tree\" title=\\'dashboard\\'><img src=\\'/jupyter/static/base/images/logo.png?v=641991992878ee24c6f3826e81054a0f\\' alt=\\'Jupyter Notebook\\'/></a></div>'], [], ['  '], ['  '], ['  '], [], ['    <span id=\"login_widget\">'], ['      '], ['    </span>'], [], ['  '], [], ['  '], [], ['  '], [], ['<span id=\"save_widget\" class=\"pull-left save_widget\">'], ['    <span class=\"filename\"></span>'], ['    <span class=\"last_modified\"></span>'], ['</span>'], [], [], ['  </div>'], ['  <div class=\"header-bar\"></div>'], [], ['  '], [], ['<div id=\"menubar-container\" class=\"container\">'], ['  <div id=\"menubar\">'], ['    <div id=\"menus\" class=\"navbar navbar-default\" role=\"navigation\">'], ['      <div class=\"container-fluid\">'], ['          <p  class=\"navbar-text indicator_area\">'], ['          <span id=\"current-mode\" >current mode</span>'], ['          </p>'], ['        <button type=\"button\" class=\"btn btn-default navbar-toggle\" data-toggle=\"collapse\" data-target=\".navbar-collapse\">'], ['          <i class=\"fa fa-bars\"></i>'], ['          <span class=\"navbar-text\">Menu</span>'], ['        </button>'], ['        <ul class=\"nav navbar-nav navbar-right\">'], ['          <li id=\"notification_area\"></li>'], ['        </ul>'], ['        <div class=\"navbar-collapse collapse\">'], ['          <ul class=\"nav navbar-nav\">'], ['            <li class=\"dropdown\"><a href=\"#\" class=\"dropdown-toggle\" data-toggle=\"dropdown\">File</a>'], ['              <ul id=\"file-menu\" class=\"dropdown-menu\">'], ['                <li id=\"new-file\"><a href=\"#\">New</a></li>'], ['                <li id=\"save-file\"><a href=\"#\">Save</a></li>'], ['                <li id=\"rename-file\"><a href=\"#\">Rename</a></li>'], ['                <li id=\"download-file\"><a href=\"#\">Download</a></li>'], ['              </ul>'], ['            </li>'], ['            <li class=\"dropdown\"><a href=\"#\" class=\"dropdown-toggle\" data-toggle=\"dropdown\">Edit</a>'], ['              <ul id=\"edit-menu\" class=\"dropdown-menu\">'], ['                <li id=\"menu-find\"><a href=\"#\">Find</a></li>'], ['                <li id=\"menu-replace\"><a href=\"#\">Find &amp; Replace</a></li>'], ['                <li class=\"divider\"></li>'], ['                <li class=\"dropdown-header\">Key Map</li>'], ['                <li id=\"menu-keymap-default\"><a href=\"#\">Default<i class=\"fa\"></i></a></li>'], ['                <li id=\"menu-keymap-sublime\"><a href=\"#\">Sublime Text<i class=\"fa\"></i></a></li>'], ['                <li id=\"menu-keymap-vim\"><a href=\"#\">Vim<i class=\"fa\"></i></a></li>'], ['                <li id=\"menu-keymap-emacs\"><a href=\"#\">emacs<i class=\"fa\"></i></a></li>'], ['              </ul>'], ['            </li>'], ['            <li class=\"dropdown\"><a href=\"#\" class=\"dropdown-toggle\" data-toggle=\"dropdown\">View</a>'], ['              <ul id=\"view-menu\" class=\"dropdown-menu\">'], ['              <li id=\"toggle_header\" title=\"Show/Hide the logo and notebook title (above menu bar)\">'], ['              <a href=\"#\">Toggle Header</a></li>'], ['              <li id=\"menu-line-numbers\"><a href=\"#\">Toggle Line Numbers</a></li>'], ['              </ul>'], ['            </li>'], ['            <li class=\"dropdown\"><a href=\"#\" class=\"dropdown-toggle\" data-toggle=\"dropdown\">Language</a>'], ['              <ul id=\"mode-menu\" class=\"dropdown-menu\">'], ['              </ul>'], ['            </li>'], ['          </ul>'], ['        </div>'], ['      </div>'], ['    </div>'], ['  </div>'], ['</div>'], [], ['<div class=\"lower-header-bar\"></div>'], [], [], ['</div>'], [], ['<div id=\"site\">'], [], [], ['<div id=\"texteditor-backdrop\">'], ['<div id=\"texteditor-container\" class=\"container\"></div>'], ['</div>'], [], [], ['</div>'], [], [], [], [], [], [], ['    '], [], [], [], ['    <script src=\"/jupyter/static/edit/js/main.min.js?v=d89587f52a269971fb4892bc34f54d0a\" type=\"text/javascript\" charset=\"utf-8\"></script>'], [], [], [], ['</body>'], [], ['</html>']]\n"
     ]
    }
   ],
   "source": [
    "f1=open('census.csv','r') #read in census file\n",
    "read1=csv.reader(f1)\n",
    "census=list(read1)\n",
    "print(census)"
   ]
  },
  {
   "cell_type": "markdown",
   "metadata": {},
   "source": [
    "# Gun Death Rates by Race "
   ]
  },
  {
   "cell_type": "code",
   "execution_count": 7,
   "metadata": {
    "collapsed": false
   },
   "outputs": [
    {
     "name": "stdout",
     "output_type": "stream",
     "text": [
      "{'Asian/Pacific Islander': 8.374309664161762, 'White': 33.56849303419181, 'Native American/Native Alaskan': 24.521955573811088, 'Black': 57.8773477735196, 'Hispanic': 20.220491210910907}\n"
     ]
    }
   ],
   "source": [
    "\n",
    "mapping={'Asian/Pacific Islander':(15834141),'Black':40250635,'Hispanic':44618105,'Native American/Native Alaskan':3739506,'White':197318956\n",
    "        } #Mapping US Census Dataset with Gun Deaths Dataset\n",
    "race_per_hundredk={}\n",
    "for key in race_counts: #Solving for gun death rate by race\n",
    "    if key in mapping:\n",
    "        rate_100k=(race_counts[key]/mapping[key])*100000\n",
    "        race_per_hundredk[key]=rate_100k\n",
    "print(race_per_hundredk)\n",
    "\n"
   ]
  },
  {
   "cell_type": "markdown",
   "metadata": {},
   "source": [
    "# Murder Rate by Race "
   ]
  },
  {
   "cell_type": "code",
   "execution_count": 8,
   "metadata": {
    "collapsed": false
   },
   "outputs": [
    {
     "name": "stdout",
     "output_type": "stream",
     "text": [
      "{'White': 4.6356417981453335, 'Asian/Pacific Islander': 3.530346230970155, 'Black': 48.471284987180944, 'Native American/Native Alaskan': 8.717729026240365, 'Hispanic': 12.627161104219914}\n"
     ]
    }
   ],
   "source": [
    "intents=[row[3] for row in data]\n",
    "races = [row[7] for row in data]\n",
    "homicide_race_counts = {}\n",
    "for i,race in enumerate(races): #selecting only homicides from list of gun deaths\n",
    "    if intents[i]== 'Homicide':\n",
    "        if race in homicide_race_counts:\n",
    "            homicide_race_counts[race]+=1\n",
    "        else:\n",
    "            homicide_race_counts[race]=1\n",
    "for key in homicide_race_counts:\n",
    "    rate2100k=(homicide_race_counts[key]/mapping[key])*100000\n",
    "    homicide_race_counts[key]=rate2100k\n",
    "print(homicide_race_counts)"
   ]
  },
  {
   "cell_type": "markdown",
   "metadata": {},
   "source": [
    "# Gun Death Rate by Race\n",
    "## Adding population data into the analysis, I was able to calculate the  the gun death rate per 100,000 people for each race.\n",
    "There is noticible gun death disparity between different races. Black people are the most likely out of any race in the dataset to be be killed by a gun. White people are next followed by Native americans, Hispanics, and Asians/Pacific Islanders. \n",
    "\n",
    "# Gun Murder Rate by Race\n",
    "## When Limiting Gun Deaths to Murders, Race Disparity Increases\n",
    "The results: 48 out of every 100,000 black persons is murdered with a gun.  Compared to a white person, black are 12 times more likely to be murdered with a gun. Hispanics also suffer from a high gun murder rate, which is approximately 3 times higher than a white person's. Asian and Pacific Islanders are the least likely to be murdered by a gun.Native Americans and Native Alaskans are twice as likely as white people Their rate per 100,000 people is 3.53. The murder rate by gun for white people is 4.34 out of every 100,000. There is a significant  drop off in the gun death rate for white people compared to the gun murder rate for white people. I'd like to analyze suicide rates next to examine the race disparity. I'd assume that the suicide rate among white people is much higher compared to other races. "
   ]
  },
  {
   "cell_type": "markdown",
   "metadata": {},
   "source": [
    "Next steps: Check suicide rates, plot the growth trend from 2012-2014, "
   ]
  },
  {
   "cell_type": "code",
   "execution_count": null,
   "metadata": {},
   "outputs": [],
   "source": []
  },
  {
   "cell_type": "code",
   "execution_count": null,
   "metadata": {},
   "outputs": [],
   "source": []
  }
 ],
 "metadata": {
  "kernelspec": {
   "display_name": "Python 3",
   "language": "python",
   "name": "python3"
  },
  "language_info": {
   "codemirror_mode": {
    "name": "ipython",
    "version": 3
   },
   "file_extension": ".py",
   "mimetype": "text/x-python",
   "name": "python",
   "nbconvert_exporter": "python",
   "pygments_lexer": "ipython3",
   "version": "3.6.7"
  }
 },
 "nbformat": 4,
 "nbformat_minor": 2
}
