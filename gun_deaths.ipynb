{
 "cells": [
  {
   "cell_type": "code",
   "execution_count": 1,
   "metadata": {
    "collapsed": false
   },
   "outputs": [
    {
     "name": "stdout",
     "output_type": "stream",
     "text": [
      "[['', 'year', 'month', 'intent', 'police', 'sex', 'age', 'race', 'hispanic', 'place', 'education'], ['1', '2012', '01', 'Suicide', '0', 'M', '34', 'Asian/Pacific Islander', '100', 'Home', '4'], ['2', '2012', '01', 'Suicide', '0', 'F', '21', 'White', '100', 'Street', '3'], ['3', '2012', '01', 'Suicide', '0', 'M', '60', 'White', '100', 'Other specified', '4'], ['4', '2012', '02', 'Suicide', '0', 'M', '64', 'White', '100', 'Home', '4']]\n"
     ]
    }
   ],
   "source": [
    "import csv\n",
    "f=open('guns.csv','r')\n",
    "read=csv.reader(f)\n",
    "data=list(read)\n",
    "print(data[0:5])"
   ]
  },
  {
   "cell_type": "code",
   "execution_count": 2,
   "metadata": {
    "collapsed": false
   },
   "outputs": [
    {
     "name": "stdout",
     "output_type": "stream",
     "text": [
      "[['1', '2012', '01', 'Suicide', '0', 'M', '34', 'Asian/Pacific Islander', '100', 'Home', '4'], ['2', '2012', '01', 'Suicide', '0', 'F', '21', 'White', '100', 'Street', '3'], ['3', '2012', '01', 'Suicide', '0', 'M', '60', 'White', '100', 'Other specified', '4'], ['4', '2012', '02', 'Suicide', '0', 'M', '64', 'White', '100', 'Home', '4'], ['5', '2012', '02', 'Suicide', '0', 'M', '31', 'White', '100', 'Other specified', '2']]\n"
     ]
    }
   ],
   "source": [
    "headers=data[0]\n",
    "data=data[1:len(data)]\n",
    "print(data[0:5])"
   ]
  },
  {
   "cell_type": "code",
   "execution_count": 3,
   "metadata": {
    "collapsed": false
   },
   "outputs": [
    {
     "name": "stdout",
     "output_type": "stream",
     "text": [
      "{'2012': 33563, '2013': 33636, '2014': 33599}\n"
     ]
    }
   ],
   "source": [
    "years = [row[1] for row in data]\n",
    "year_counts={}\n",
    "for year in years:\n",
    "    if year in year_counts:\n",
    "        year_counts[year]+=1\n",
    "    else:\n",
    "        year_counts[year]=1\n",
    "print(year_counts)"
   ]
  },
  {
   "cell_type": "code",
   "execution_count": 4,
   "metadata": {
    "collapsed": false,
    "scrolled": false
   },
   "outputs": [
    {
     "name": "stdout",
     "output_type": "stream",
     "text": [
      "[datetime.datetime(2012, 1, 1, 0, 0), datetime.datetime(2012, 1, 1, 0, 0), datetime.datetime(2012, 1, 1, 0, 0), datetime.datetime(2012, 2, 1, 0, 0), datetime.datetime(2012, 2, 1, 0, 0)]\n",
      "\n",
      "\n",
      "{datetime.datetime(2014, 8, 1, 0, 0): 2970, datetime.datetime(2013, 6, 1, 0, 0): 2920, datetime.datetime(2014, 5, 1, 0, 0): 2864, datetime.datetime(2013, 2, 1, 0, 0): 2375, datetime.datetime(2012, 8, 1, 0, 0): 2954, datetime.datetime(2012, 7, 1, 0, 0): 3026, datetime.datetime(2013, 10, 1, 0, 0): 2808, datetime.datetime(2012, 3, 1, 0, 0): 2743, datetime.datetime(2014, 1, 1, 0, 0): 2651, datetime.datetime(2012, 11, 1, 0, 0): 2729, datetime.datetime(2014, 12, 1, 0, 0): 2857, datetime.datetime(2012, 1, 1, 0, 0): 2758, datetime.datetime(2014, 6, 1, 0, 0): 2931, datetime.datetime(2012, 6, 1, 0, 0): 2826, datetime.datetime(2012, 2, 1, 0, 0): 2357, datetime.datetime(2013, 3, 1, 0, 0): 2862, datetime.datetime(2014, 4, 1, 0, 0): 2862, datetime.datetime(2014, 3, 1, 0, 0): 2684, datetime.datetime(2014, 11, 1, 0, 0): 2756, datetime.datetime(2013, 1, 1, 0, 0): 2864, datetime.datetime(2013, 9, 1, 0, 0): 2742, datetime.datetime(2014, 10, 1, 0, 0): 2865, datetime.datetime(2012, 12, 1, 0, 0): 2791, datetime.datetime(2013, 8, 1, 0, 0): 2859, datetime.datetime(2014, 7, 1, 0, 0): 2884, datetime.datetime(2013, 7, 1, 0, 0): 3079, datetime.datetime(2013, 4, 1, 0, 0): 2798, datetime.datetime(2012, 5, 1, 0, 0): 2999, datetime.datetime(2013, 5, 1, 0, 0): 2806, datetime.datetime(2012, 4, 1, 0, 0): 2795, datetime.datetime(2012, 10, 1, 0, 0): 2733, datetime.datetime(2012, 9, 1, 0, 0): 2852, datetime.datetime(2014, 9, 1, 0, 0): 2914, datetime.datetime(2014, 2, 1, 0, 0): 2361, datetime.datetime(2013, 11, 1, 0, 0): 2758, datetime.datetime(2013, 12, 1, 0, 0): 2765}\n"
     ]
    }
   ],
   "source": [
    "import datetime\n",
    "dates = [datetime.datetime(year=int(row[1]), month=int(row[2]), day=1) for row in data]\n",
    "print(dates[0:5])\n",
    "date_counts={}\n",
    "for date in dates:\n",
    "    if date in date_counts:\n",
    "        date_counts[date]+=1\n",
    "    else:\n",
    "        date_counts[date]=1\n",
    "print(\"\\n\")\n",
    "print(date_counts)\n",
    "\n"
   ]
  },
  {
   "cell_type": "code",
   "execution_count": 5,
   "metadata": {
    "collapsed": false
   },
   "outputs": [
    {
     "name": "stdout",
     "output_type": "stream",
     "text": [
      "{'F': 14449, 'M': 86349} \n",
      " {'Black': 23296, 'Hispanic': 9022, 'Asian/Pacific Islander': 1326, 'White': 66237, 'Native American/Native Alaskan': 917}\n"
     ]
    }
   ],
   "source": [
    "sex = [row[5] for row in data]\n",
    "race = [row[7] for row in data]\n",
    "def column_count(list):\n",
    "    counts={}\n",
    "    for value in list:\n",
    "        if value in counts:\n",
    "            counts[value]+=1\n",
    "        else:\n",
    "            counts[value]=1\n",
    "    return counts\n",
    "\n",
    "sex_counts=column_count(sex)\n",
    "race_counts=column_count(race)\n",
    "print(sex_counts,'\\n',race_counts)"
   ]
  },
  {
   "cell_type": "markdown",
   "metadata": {},
   "source": [
    "# Gun Deaths by Gender\n",
    "Based on this analysis, more men were killed e by gun deaths then were women from 2012 to 2014. Considering the ratio of Males to Females in the US is approximately 1 to 1, this suggests that men are killed at a much higher rate by guns then are females. \n",
    "\n",
    "# Gun Deaths By Race\n",
    "Based on the analysis, the white race has significantly more gun deaths than any other race in the US. They are followed by black, hispanic, native american and asian/pacific islanders respectively. Although interesting, we need data on the population of each race in the US to compare the rate of which each race is killed by gun deaths. "
   ]
  },
  {
   "cell_type": "code",
   "execution_count": 6,
   "metadata": {
    "collapsed": false
   },
   "outputs": [
    {
     "name": "stdout",
     "output_type": "stream",
     "text": [
      "[['Id', 'Year', 'Id', 'Sex', 'Id', 'Hispanic Origin', 'Id', 'Id2', 'Geography', 'Total', 'Race Alone - White', 'Race Alone - Hispanic', 'Race Alone - Black or African American', 'Race Alone - American Indian and Alaska Native', 'Race Alone - Asian', 'Race Alone - Native Hawaiian and Other Pacific Islander', 'Two or More Races'], ['cen42010', 'April 1, 2010 Census', 'totsex', 'Both Sexes', 'tothisp', 'Total', '0100000US', '', 'United States', '308745538', '197318956', '44618105', '40250635', '3739506', '15159516', '674625', '6984195']]\n"
     ]
    }
   ],
   "source": [
    "f1=open('census.csv','r')\n",
    "read1=csv.reader(f1)\n",
    "census=list(read1)\n",
    "print(census)"
   ]
  },
  {
   "cell_type": "code",
   "execution_count": 11,
   "metadata": {
    "collapsed": false
   },
   "outputs": [
    {
     "name": "stdout",
     "output_type": "stream",
     "text": [
      "{'Black': 57.8773477735196, 'Hispanic': 20.220491210910907, 'Asian/Pacific Islander': 8.374309664161762, 'White': 33.56849303419181, 'Native American/Native Alaskan': 24.521955573811088}\n"
     ]
    }
   ],
   "source": [
    "\n",
    "mapping={'Asian/Pacific Islander':(15834141),'Black':40250635,'Hispanic':44618105,'Native American/Native Alaskan':3739506,'White':197318956\n",
    "        }\n",
    "race_per_hundredk={}\n",
    "for key in race_counts:\n",
    "    if key in mapping:\n",
    "        rate_10k=(race_counts[key]/mapping[key])*100000\n",
    "        race_per_hundredk[key]=rate_10k\n",
    "print(race_per_hundredk)\n",
    "\n"
   ]
  },
  {
   "cell_type": "code",
   "execution_count": 14,
   "metadata": {
    "collapsed": false
   },
   "outputs": [
    {
     "name": "stdout",
     "output_type": "stream",
     "text": [
      "{'Black': 48.471284987180944, 'Hispanic': 12.627161104219914, 'Asian/Pacific Islander': 3.530346230970155, 'White': 4.6356417981453335, 'Native American/Native Alaskan': 8.717729026240365}\n"
     ]
    }
   ],
   "source": [
    "intents=[row[3] for row in data]\n",
    "races = [row[7] for row in data]\n",
    "homicide_race_counts = {}\n",
    "for i,race in enumerate(races):\n",
    "    if intents[i]== 'Homicide':\n",
    "        if race in homicide_race_counts:\n",
    "            homicide_race_counts[race]+=1\n",
    "        else:\n",
    "            homicide_race_counts[race]=1\n",
    "for key in homicide_race_counts:\n",
    "    rate2100k=(homicide_race_counts[key]/mapping[key])*100000\n",
    "    homicide_race_counts[key]=rate2100k\n",
    "print(homicide_race_counts)"
   ]
  },
  {
   "cell_type": "markdown",
   "metadata": {},
   "source": [
    "# Gun Death Rate by Race\n",
    "## Adding population data into the analysis, I was able to calculate the  the gun death rate per 100,000 people for each race.\n",
    "There is noticible gun death disparity between different races. Black people are the most likely out of any race in the dataset to be be killed by a gun. White people are next followed by Native americans, Hispanics, and Asians/Pacific Islanders. \n",
    "\n",
    "# Gun Murder Rate by Race\n",
    "## When Limiting Gun Deaths to Murders, Race Disparity Increases\n",
    "The results: 48 out of every 100,000 black persons is murdered with a gun.  Compared to a white person, black are 12 times more likely to be murdered with a gun. Hispanics also suffer from a high gun murder rate, which is approximately 3 times higher than a white person's. Asian and Pacific Islanders are the least likely to be murdered by a gun.Native Americans and Native Alaskans are twice as likely as white people Their rate per 100,000 people is 3.53. The murder rate by gun for white people is 4.34 out of every 100,000. There is a significant  drop off in the gun death rate for white people compared to the gun murder rate for white people. I'd like to analyze suicide rates next to examine the race disparity. I'd assume that the suicide rate among white people is much higher compared to other races. "
   ]
  },
  {
   "cell_type": "code",
   "execution_count": 15,
   "metadata": {
    "collapsed": false
   },
   "outputs": [
    {
     "ename": "SyntaxError",
     "evalue": "invalid syntax (<ipython-input-15-4250277de644>, line 1)",
     "output_type": "error",
     "traceback": [
      "\u001b[1;36m  File \u001b[1;32m\"<ipython-input-15-4250277de644>\"\u001b[1;36m, line \u001b[1;32m1\u001b[0m\n\u001b[1;33m    Next steps: Check suicide rates, plot the growth trend from 2012-2014,\u001b[0m\n\u001b[1;37m             ^\u001b[0m\n\u001b[1;31mSyntaxError\u001b[0m\u001b[1;31m:\u001b[0m invalid syntax\n"
     ]
    }
   ],
   "source": [
    "Next steps: Check suicide rates, plot the growth trend from 2012-2014, "
   ]
  },
  {
   "cell_type": "code",
   "execution_count": null,
   "metadata": {
    "collapsed": true
   },
   "outputs": [],
   "source": []
  }
 ],
 "metadata": {
  "kernelspec": {
   "display_name": "Python 3",
   "language": "python",
   "name": "python3"
  },
  "language_info": {
   "codemirror_mode": {
    "name": "ipython",
    "version": 3
   },
   "file_extension": ".py",
   "mimetype": "text/x-python",
   "name": "python",
   "nbconvert_exporter": "python",
   "pygments_lexer": "ipython3",
   "version": "3.4.3"
  }
 },
 "nbformat": 4,
 "nbformat_minor": 0
}
